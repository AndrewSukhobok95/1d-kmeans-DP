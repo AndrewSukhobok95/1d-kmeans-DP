{
  "nbformat": 4,
  "nbformat_minor": 0,
  "metadata": {
    "colab": {
      "provenance": [],
      "toc_visible": true
    },
    "kernelspec": {
      "name": "python3",
      "display_name": "Python 3"
    },
    "language_info": {
      "name": "python"
    }
  },
  "cells": [
    {
      "cell_type": "markdown",
      "source": [
        "# Code for Optimal 1D K-Means with Dynamic Programming"
      ],
      "metadata": {
        "id": "nOjpbgNmYJsR"
      }
    },
    {
      "cell_type": "markdown",
      "source": [
        "## Imports and Helping Functions"
      ],
      "metadata": {
        "id": "pl22Ci_1wkT3"
      }
    },
    {
      "cell_type": "code",
      "execution_count": 1,
      "metadata": {
        "id": "A5Lw5tR7DE4W"
      },
      "outputs": [],
      "source": [
        "import numpy as np\n",
        "import pandas as pd\n",
        "import matplotlib.pyplot as plt\n",
        "import functools\n",
        "from collections import deque\n",
        "from sklearn.cluster import KMeans\n",
        "plt.style.use(\"ggplot\")\n",
        "\n",
        "def plot_data(data, cluster_indeces=None, title=None):\n",
        "    \"\"\"\n",
        "    This function plots the 1D points.\n",
        "    If cluster_indeces are provided, they are used to color the points.\n",
        "    \"\"\"\n",
        "    plt.figure(figsize=(10, 1))\n",
        "    if title:\n",
        "        plt.title(title, fontsize=16)\n",
        "    plt.plot([-2, np.max(data)+2], [0, 0], \"--\", c=\"blue\")\n",
        "    if cluster_indeces is not None:\n",
        "        plt.scatter(data, [0] * len(data), \n",
        "                    marker=\"x\", s=150, c=cluster_indeces, cmap=\"tab10\")\n",
        "    else:\n",
        "        plt.scatter(data, [0] * len(data), \n",
        "                    marker=\"x\", s=150, c=\"red\")\n",
        "    plt.xlim(left=-1, right=np.max(data)+1)\n",
        "    ax = plt.gca()\n",
        "    ax.get_yaxis().set_visible(False)\n",
        "    plt.show()\n",
        "\n",
        "\n",
        "def order_clusters_indicies(clusters):\n",
        "    \"\"\"\n",
        "    This functions puts the cluster labels in the increasing order.\n",
        "    Example input:  [1,1,1,0,0,0,0,3,3,2,2,2]\n",
        "    Example output: [0,0,0,1,1,1,1,2,2,3,3,3]\n",
        "    \"\"\"\n",
        "    order = []\n",
        "    for c in clusters:\n",
        "        if c not in order:\n",
        "            order.append(c)\n",
        "    to_order = dict(zip(order, range(len(order))))\n",
        "    return np.vectorize(to_order.get)(clusters)"
      ]
    },
    {
      "cell_type": "markdown",
      "source": [
        "## Naive Implementation"
      ],
      "metadata": {
        "id": "YUmXMwUzXu29"
      }
    },
    {
      "cell_type": "markdown",
      "source": [
        "### DP"
      ],
      "metadata": {
        "id": "Gl8zIz-MXy0v"
      }
    },
    {
      "cell_type": "code",
      "source": [
        "def CC(x):\n",
        "    m = np.mean(x)\n",
        "    d = (x - m)**2\n",
        "    return np.sum(d)\n",
        "\n",
        "\n",
        "def Kmeans1D(X, k):\n",
        "    n = len(X)\n",
        "    if k>n:\n",
        "        raise ValueError(\"Number of clusters can't be higher then number of points!\")\n",
        "    D = np.zeros((k, n))\n",
        "    T = np.zeros((k, n))\n",
        "\n",
        "    # Filling first row of D\n",
        "    for m in range(n):\n",
        "        D[0, m] = CC(X[0:m+1])\n",
        "    \n",
        "    # Filling the rest rows\n",
        "    for i in range(1, k):\n",
        "        for m in range(i, n):\n",
        "            D_ms = np.array([0.0] + [D[i-1, j-1] for j in range(1, m)])\n",
        "            CC_ms = np.array([CC(X[j:m+1]) for j in range(m)])\n",
        "            ms = D_ms + CC_ms\n",
        "            D[i, m] = np.min(ms)\n",
        "            T[i, m] = np.argmin(ms)\n",
        "    \n",
        "    return D, T.astype(int)"
      ],
      "metadata": {
        "id": "3qX9-52J1xkT"
      },
      "execution_count": 2,
      "outputs": []
    },
    {
      "cell_type": "markdown",
      "source": [
        "### Backtracking"
      ],
      "metadata": {
        "id": "Hstt0lSZX0-V"
      }
    },
    {
      "cell_type": "code",
      "source": [
        "def Backtrace(T):\n",
        "    k, n = T.shape\n",
        "    m = n - 1\n",
        "\n",
        "    # Find the borders of clusters\n",
        "    cluster_borders = deque()\n",
        "    for i in range(k-1, -1, -1):\n",
        "        m = T[i, m]\n",
        "        cluster_borders.appendleft(m)\n",
        "    cluster_borders.append(n)\n",
        "\n",
        "    # Create an array of length n where ith element is assigned to cluser\n",
        "    clusters = np.array([None] * n)\n",
        "    l = cluster_borders.popleft()\n",
        "    c = 0\n",
        "    while cluster_borders:\n",
        "        r = cluster_borders.popleft()\n",
        "        clusters[l:r] = c\n",
        "        l = r\n",
        "        c += 1\n",
        "    return clusters"
      ],
      "metadata": {
        "id": "2Tau6Pjb1pPP"
      },
      "execution_count": 3,
      "outputs": []
    },
    {
      "cell_type": "markdown",
      "source": [
        "## Test on data"
      ],
      "metadata": {
        "id": "GFMgkGHcX3B5"
      }
    },
    {
      "cell_type": "code",
      "source": [
        "r = np.random.RandomState(5)\n",
        "data = np.sort(np.concatenate([\n",
        "    r.normal(loc=5, scale=2, size=10),\n",
        "    r.normal(loc=15, scale=1, size=5),\n",
        "    r.normal(loc=23, scale=1, size=15),\n",
        "    r.normal(loc=40, scale=4, size=8)\n",
        "]))\n",
        "\n",
        "plot_data(data)"
      ],
      "metadata": {
        "colab": {
          "base_uri": "https://localhost:8080/",
          "height": 137
        },
        "id": "OyDMOv1mSVoS",
        "outputId": "b69073c9-84e1-4c23-abb9-2064726849e4"
      },
      "execution_count": 4,
      "outputs": [
        {
          "output_type": "display_data",
          "data": {
            "text/plain": [
              "<Figure size 1000x100 with 1 Axes>"
            ],
            "image/png": "[encoded data removed]"
          },
          "metadata": {}
        }
      ]
    },
    {
      "cell_type": "code",
      "source": [
        "D, T = Kmeans1D(data, k=4)\n",
        "dp_labels = Backtrace(T)"
      ],
      "metadata": {
        "id": "gI7h-I26Yk8G"
      },
      "execution_count": 5,
      "outputs": []
    },
    {
      "cell_type": "code",
      "source": [
        "kmeans = KMeans(n_clusters=4, random_state=8, n_init=\"auto\").fit(data.reshape(data.shape[0], 1))\n",
        "sklearn_labels_1 = order_clusters_indicies(kmeans.labels_)"
      ],
      "metadata": {
        "id": "ijKhyx2GYmJ7"
      },
      "execution_count": 6,
      "outputs": []
    },
    {
      "cell_type": "code",
      "source": [
        "kmeans = KMeans(n_clusters=4, random_state=9, n_init=\"auto\").fit(data.reshape(data.shape[0], 1))\n",
        "sklearn_labels_2 = order_clusters_indicies(kmeans.labels_)"
      ],
      "metadata": {
        "id": "ynlCS2p6YmMM"
      },
      "execution_count": 7,
      "outputs": []
    },
    {
      "cell_type": "code",
      "source": [
        "nmaes = [\"Dynamic Programming\", \"sklearn (random_state=8)\", \"sklearn (random_state=9)\"]\n",
        "lables = [dp_labels, sklearn_labels_1, sklearn_labels_2]\n",
        "for name, lable in zip(nmaes, lables):\n",
        "    plot_data(data, cluster_indeces=lable, title=name)"
      ],
      "metadata": {
        "colab": {
          "base_uri": "https://localhost:8080/",
          "height": 452
        },
        "id": "ufMMN82FYmRb",
        "outputId": "b91b65e6-f11e-405b-8e7f-815726e5c077"
      },
      "execution_count": 8,
      "outputs": [
        {
          "output_type": "display_data",
          "data": {
            "text/plain": [
              "<Figure size 1000x100 with 1 Axes>"
            ],
            "image/png": "[encoded data removed]"
          },
          "metadata": {}
        },
        {
          "output_type": "display_data",
          "data": {
            "text/plain": [
              "<Figure size 1000x100 with 1 Axes>"
            ],
            "image/png": "[encoded data removed]"
          },
          "metadata": {}
        },
        {
          "output_type": "display_data",
          "data": {
            "text/plain": [
              "<Figure size 1000x100 with 1 Axes>"
            ],
            "image/png": "[encoded data removed]"
          },
          "metadata": {}
        }
      ]
    },
    {
      "cell_type": "markdown",
      "source": [
        "## Optimal implementation"
      ],
      "metadata": {
        "id": "XMv9lVATX6uo"
      }
    },
    {
      "cell_type": "markdown",
      "source": [
        "### Prefix sums"
      ],
      "metadata": {
        "id": "3FgWaJ90X94r"
      }
    },
    {
      "cell_type": "code",
      "source": [
        "def sum_from_prefix(prefix_sums: np.array, l: int, r: int):\n",
        "    \"\"\"\n",
        "    This function calculates the sum of values between l and r index\n",
        "    given the array of prefix sums (value on r index is not included).\n",
        "    \"\"\"\n",
        "    if l == 0:\n",
        "        return prefix_sums[r - 1]\n",
        "    return prefix_sums[r - 1] - prefix_sums[l - 1]\n",
        "\n",
        "\n",
        "def CC_from_prefix(X_sums: np.array, X_sq_sums: np.array, l: int, r: int):\n",
        "    \"\"\"\n",
        "    This function calculates the Euclidian cost of cluster given the \n",
        "    array of prefix sums for X and X squred (value on r index is not included).\n",
        "    \"\"\"\n",
        "    sum_X = sum_from_prefix(X_sums, l=l, r=r)\n",
        "    sum_X_sq = sum_from_prefix(X_sq_sums, l=l, r=r)\n",
        "    mu = sum_X / (r - l)\n",
        "    mu_sq = mu**2\n",
        "    cc = (r - l) * mu_sq - 2 * mu * sum_X + sum_X_sq\n",
        "    return cc"
      ],
      "metadata": {
        "id": "w29mEgoaDUeM"
      },
      "execution_count": null,
      "outputs": []
    },
    {
      "cell_type": "markdown",
      "source": [
        "### DP"
      ],
      "metadata": {
        "id": "g5dqUJOwYBru"
      }
    },
    {
      "cell_type": "code",
      "source": [
        "def Kmeans1D_optimised(X, k):\n",
        "    n = len(X)\n",
        "    if k>n:\n",
        "        raise ValueError(\"Number of clusters can't be higher then number of points!\")\n",
        "    D = np.zeros((k, n))\n",
        "    T = np.zeros((k, n))\n",
        "\n",
        "    # Filling the first row of D\n",
        "    # And computing the prefix sums for X and X**2\n",
        "    cc_prev = 0\n",
        "    mu_prev = 0\n",
        "    X_prefix_sum = np.array([None] * n)\n",
        "    X_prefix_sum[0] = X[0]\n",
        "    X_sq_prefix_sum = np.array([None] * n)\n",
        "    X_sq_prefix_sum[0] = X[0]**2\n",
        "    for m in range(n):\n",
        "        cc = cc_prev + (X[m] - mu_prev)**2 * m / (m + 1)\n",
        "        D[0, m] = cc\n",
        "        mu_prev = (X[m] + m * mu_prev ) / (m + 1)\n",
        "        cc_prev = cc\n",
        "\n",
        "        if m > 0:\n",
        "            X_prefix_sum[m] = X_prefix_sum[m-1] + X[m]\n",
        "            X_sq_prefix_sum[m] = X_sq_prefix_sum[m-1] + X[m]**2\n",
        "    \n",
        "    # Filling the rest rows\n",
        "    for i in range(1, k):\n",
        "        for m in range(i, n):\n",
        "            D_ms = np.pad(D[i-1, 0:m-1], (1,0))\n",
        "            CC_ms = np.array([CC_from_prefix(X_prefix_sum, X_sq_prefix_sum, l=j, r=m+1) for j in range(m)])\n",
        "            ms = D_ms + CC_ms\n",
        "            D[i, m] = np.min(ms)\n",
        "            T[i, m] = np.argmin(ms)\n",
        "    \n",
        "    return D, T.astype(int)"
      ],
      "metadata": {
        "id": "45KDRmuU1pVK"
      },
      "execution_count": null,
      "outputs": []
    },
    {
      "cell_type": "code",
      "source": [
        "%%timeit -r 10 -n 200\n",
        "D, T = Kmeans1D_optimised(data, k=4)"
      ],
      "metadata": {
        "colab": {
          "base_uri": "https://localhost:8080/"
        },
        "id": "7YfExHphJIkA",
        "outputId": "00d9e9b4-03e4-44ad-feca-b3d1fd9671cd"
      },
      "execution_count": null,
      "outputs": [
        {
          "output_type": "stream",
          "name": "stdout",
          "text": [
            "12.1 ms ± 3.71 ms per loop (mean ± std. dev. of 10 runs, 200 loops each)\n"
          ]
        }
      ]
    },
    {
      "cell_type": "code",
      "source": [
        "%%timeit -r 10 -n 200\n",
        "D, T = Kmeans1D(data, k=4)"
      ],
      "metadata": {
        "colab": {
          "base_uri": "https://localhost:8080/"
        },
        "id": "a721i1esDg5t",
        "outputId": "a8ddedf8-47a3-45c5-e1c2-4af2efb6f7b4"
      },
      "execution_count": null,
      "outputs": [
        {
          "output_type": "stream",
          "name": "stdout",
          "text": [
            "42.1 ms ± 2.14 ms per loop (mean ± std. dev. of 10 runs, 200 loops each)\n"
          ]
        }
      ]
    },
    {
      "cell_type": "markdown",
      "source": [
        "## Example of T usage"
      ],
      "metadata": {
        "id": "PhM2carWgmHK"
      }
    },
    {
      "cell_type": "code",
      "source": [
        "X = np.array([1,2,3,12,15,29,32])\n",
        "D, T = Kmeans1D(X, k=3)\n",
        "T"
      ],
      "metadata": {
        "id": "Id4mHo650eU_",
        "colab": {
          "base_uri": "https://localhost:8080/"
        },
        "outputId": "080bb45a-0702-4a0d-e8e9-5ca4fd3055d2"
      },
      "execution_count": 16,
      "outputs": [
        {
          "output_type": "execute_result",
          "data": {
            "text/plain": [
              "array([[0, 0, 0, 0, 0, 0, 0],\n",
              "       [0, 0, 1, 2, 3, 3, 5],\n",
              "       [0, 0, 1, 2, 3, 4, 5]])"
            ]
          },
          "metadata": {},
          "execution_count": 16
        }
      ]
    },
    {
      "cell_type": "code",
      "source": [
        "dp_labels = Backtrace(T)"
      ],
      "metadata": {
        "id": "UY1jzmPig59M"
      },
      "execution_count": 17,
      "outputs": []
    },
    {
      "cell_type": "code",
      "source": [
        "plot_data(X, cluster_indeces=dp_labels)"
      ],
      "metadata": {
        "colab": {
          "base_uri": "https://localhost:8080/",
          "height": 137
        },
        "id": "Y_Mh4T1xhR2w",
        "outputId": "e6f10f8a-ddac-4dcf-d700-c7d17108485e"
      },
      "execution_count": 18,
      "outputs": [
        {
          "output_type": "display_data",
          "data": {
            "text/plain": [
              "<Figure size 1000x100 with 1 Axes>"
            ],
            "image/png": "[encoded data removed]"
          },
          "metadata": {}
        }
      ]
    },
    {
      "cell_type": "markdown",
      "source": [
        "# References\n",
        "\n",
        "- Fast Exact k-Means, k-Medians and Bregman Divergence Clustering in 1D ([link](https://arxiv.org/abs/1701.07204))\n",
        "- Ckmeans.1d.dp: Optimal k-means Clustering in One Dimension by Dynamic Programming ([link](https://journal.r-project.org/archive/2011-2/RJournal_2011-2_Wang+Song.pdf))"
      ],
      "metadata": {
        "id": "VT393xX1ru2S"
      }
    }
  ]
}